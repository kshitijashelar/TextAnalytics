{
  "nbformat": 4,
  "nbformat_minor": 0,
  "metadata": {
    "colab": {
      "name": "Untitled11.ipynb",
      "provenance": [],
      "collapsed_sections": []
    },
    "kernelspec": {
      "name": "python3",
      "display_name": "Python 3"
    }
  },
  "cells": [
    {
      "cell_type": "markdown",
      "metadata": {
        "id": "5PBf4dVZfcjj"
      },
      "source": [
        "### Spam Tweet Detection   "
      ]
    },
    {
      "cell_type": "code",
      "metadata": {
        "id": "yFx2nCKS2vRA",
        "colab": {
          "base_uri": "https://localhost:8080/"
        },
        "outputId": "1896adf3-02d9-4ff2-94d8-8525945d13d3"
      },
      "source": [
        "spam_tweets=[\n",
        "    \"#BurgerKing Super Spicy Chicken Whopper : Enjoy the taste of exquisite Fresh Chicken with lettuce mayonise onions tomatoes and cheese!! Just for 3 Euros! Burgers never tasted so good!\",\n",
        "    \"#BurgerKing Triple Beacon Cheeseburger Whopper: Who says you can not enjoy a triple beacon cheeseburger in 2.99? Enjoy the taste of burger overloaded with fresh meat and veggies with taste of delicious beverages\",\n",
        "    \"With #BurgerKing hot coffee, get ready to face the day with super energy! #HappyHalloween\",\n",
        "    \"#BurgerKing Hot and crispy Fries : Ready for a long weekend shopping with friends? Enjoy the hot and crispy fries with your burger and a beverage! Special weekend offer on meals!\",\n",
        "    \"#BurgerKing spicy hot chicken wings : For those who prefer the crunchy texture of fried chicken, these wings delivers a true punch of flavours with fresh irish chicken and total bliss\",\n",
        "    \"#BurgerKing Hot Chocolate Fudge: Craving a nice warm bowl of hot chocolate fudge? head over to your nearest BurgerKing outlet and try put new addition in the menu with chocolate fudge\",\n",
        "    \"With #BurgerKing hot coffee, get ready to face the day with super energy! #HappyHalloween\",\n",
        "    \"#BurgerKing Fish n Chips: Enjoy the perfect blend of yummy salmon batter fried with BurgerKing's hot beverages\",\n",
        "    \"Treat the desi in you with #BurgerKing Happy Treats chicken tikka masala burger. Keep all eyes on the food, just on the food.\",\n",
        "    \"With #BurgerKing hot coffee, get ready to face the day with super energy! #HappyHalloween\",\n",
        "    \"#BurgerKing special hamburgers : Enjoy the authentic taste of burger with lettuce mayonise onions tomatoes and cheese!! Just for 3 Euros! Burgers never tasted so good!\"\n",
        "]\n",
        "\n",
        "print(spam_tweets)"
      ],
      "execution_count": 1,
      "outputs": [
        {
          "output_type": "stream",
          "text": [
            "['#BurgerKing Super Spicy Chicken Whopper : Enjoy the taste of exquisite Fresh Chicken with lettuce mayonise onions tomatoes and cheese!! Just for 3 Euros! Burgers never tasted so good!', '#BurgerKing Triple Beacon Cheeseburger Whopper: Who says you can not enjoy a triple beacon cheeseburger in 2.99? Enjoy the taste of burger overloaded with fresh meat and veggies with taste of delicious beverages', 'With #BurgerKing hot coffee, get ready to face the day with super energy! #HappyHalloween', '#BurgerKing Hot and crispy Fries : Ready for a long weekend shopping with friends? Enjoy the hot and crispy fries with your burger and a beverage! Special weekend offer on meals!', '#BurgerKing spicy hot chicken wings : For those who prefer the crunchy texture of fried chicken, these wings delivers a true punch of flavours with fresh irish chicken and total bliss', '#BurgerKing Hot Chocolate Fudge: Craving a nice warm bowl of hot chocolate fudge? head over to your nearest BurgerKing outlet and try put new addition in the menu with chocolate fudge', 'With #BurgerKing hot coffee, get ready to face the day with super energy! #HappyHalloween', \"#BurgerKing Fish n Chips: Enjoy the perfect blend of yummy salmon batter fried with BurgerKing's hot beverages\", 'Treat the desi in you with #BurgerKing Happy Treats chicken tikka masala burger. Keep all eyes on the food, just on the food.', 'With #BurgerKing hot coffee, get ready to face the day with super energy! #HappyHalloween', '#BurgerKing special hamburgers : Enjoy the authentic taste of burger with lettuce mayonise onions tomatoes and cheese!! Just for 3 Euros! Burgers never tasted so good!']\n"
          ],
          "name": "stdout"
        }
      ]
    },
    {
      "cell_type": "code",
      "metadata": {
        "id": "frzg5ztUeulC"
      },
      "source": [
        "from nltk.tokenize import TweetTokenizer\n",
        "from nltk.corpus import stopwords\n",
        "import nltk"
      ],
      "execution_count": 2,
      "outputs": []
    },
    {
      "cell_type": "code",
      "metadata": {
        "colab": {
          "base_uri": "https://localhost:8080/"
        },
        "id": "qtCbikj5e5qr",
        "outputId": "f7f86440-0c19-4ae4-9017-a56c860c5c47"
      },
      "source": [
        "import nltk\n",
        "nltk.download('stopwords')"
      ],
      "execution_count": 4,
      "outputs": [
        {
          "output_type": "stream",
          "text": [
            "[nltk_data] Downloading package stopwords to /root/nltk_data...\n",
            "[nltk_data]   Unzipping corpora/stopwords.zip.\n"
          ],
          "name": "stdout"
        },
        {
          "output_type": "execute_result",
          "data": {
            "text/plain": [
              "True"
            ]
          },
          "metadata": {
            "tags": []
          },
          "execution_count": 4
        }
      ]
    },
    {
      "cell_type": "code",
      "metadata": {
        "id": "9wzDN6GDey6a"
      },
      "source": [
        "tknzr = TweetTokenizer()\n",
        "tokenizeSpamTweets = []\n",
        "for tweet in spam_tweets:\n",
        "    tokenizeSpamTweets.append(tknzr.tokenize(tweet))\n",
        "\n",
        "#Removing stop words\n",
        "filteredSpamTweet=[]\n",
        "stop_words = stopwords.words('english')\n",
        "for current_list in tokenizeSpamTweets:\n",
        "    temp_list=[]\n",
        "    for word in current_list:\n",
        "        if word not in stop_words:\n",
        "            temp_list.append(word)\n",
        "    filteredSpamTweet.append(temp_list)\n"
      ],
      "execution_count": 5,
      "outputs": []
    },
    {
      "cell_type": "code",
      "metadata": {
        "colab": {
          "base_uri": "https://localhost:8080/"
        },
        "id": "Henp9UUJey87",
        "outputId": "5fd932b7-149f-4f4c-bcfe-701c22242b1f"
      },
      "source": [
        "#Removing the special characters and changing to lower case\n",
        "import re\n",
        "for i in range (0, len(filteredSpamTweet)):\n",
        "    for j in range (0, len(filteredSpamTweet[i])):\n",
        "        filteredSpamTweet[i][j] = re.sub(r\"[^a-zA-Z0-9]+\", '', filteredSpamTweet[i][j])\n",
        "        filteredSpamTweet[i][j] = filteredSpamTweet[i][j].lower()\n",
        "        \n",
        "finalSpamTweet=[]\n",
        "for cur_list in filteredSpamTweet:\n",
        "    temp_list=[]\n",
        "    temp_list = [w for w in cur_list if w]\n",
        "    finalSpamTweet.append(temp_list)\n",
        "\n",
        "finalOutputSpam=[]\n",
        "for lst in finalSpamTweet:\n",
        "    for ele in lst:\n",
        "        finalOutputSpam.append(ele)\n",
        "        \n",
        "print(finalOutputSpam)\n"
      ],
      "execution_count": 6,
      "outputs": [
        {
          "output_type": "stream",
          "text": [
            "['burgerking', 'super', 'spicy', 'chicken', 'whopper', 'enjoy', 'taste', 'exquisite', 'fresh', 'chicken', 'lettuce', 'mayonise', 'onions', 'tomatoes', 'cheese', 'just', '3', 'euros', 'burgers', 'never', 'tasted', 'good', 'burgerking', 'triple', 'beacon', 'cheeseburger', 'whopper', 'who', 'says', 'enjoy', 'triple', 'beacon', 'cheeseburger', '299', 'enjoy', 'taste', 'burger', 'overloaded', 'fresh', 'meat', 'veggies', 'taste', 'delicious', 'beverages', 'with', 'burgerking', 'hot', 'coffee', 'get', 'ready', 'face', 'day', 'super', 'energy', 'happyhalloween', 'burgerking', 'hot', 'crispy', 'fries', 'ready', 'long', 'weekend', 'shopping', 'friends', 'enjoy', 'hot', 'crispy', 'fries', 'burger', 'beverage', 'special', 'weekend', 'offer', 'meals', 'burgerking', 'spicy', 'hot', 'chicken', 'wings', 'for', 'prefer', 'crunchy', 'texture', 'fried', 'chicken', 'wings', 'delivers', 'true', 'punch', 'flavours', 'fresh', 'irish', 'chicken', 'total', 'bliss', 'burgerking', 'hot', 'chocolate', 'fudge', 'craving', 'nice', 'warm', 'bowl', 'hot', 'chocolate', 'fudge', 'head', 'nearest', 'burgerking', 'outlet', 'try', 'put', 'new', 'addition', 'menu', 'chocolate', 'fudge', 'with', 'burgerking', 'hot', 'coffee', 'get', 'ready', 'face', 'day', 'super', 'energy', 'happyhalloween', 'burgerking', 'fish', 'n', 'chips', 'enjoy', 'perfect', 'blend', 'yummy', 'salmon', 'batter', 'fried', 'burgerkings', 'hot', 'beverages', 'treat', 'desi', 'burgerking', 'happy', 'treats', 'chicken', 'tikka', 'masala', 'burger', 'keep', 'eyes', 'food', 'food', 'with', 'burgerking', 'hot', 'coffee', 'get', 'ready', 'face', 'day', 'super', 'energy', 'happyhalloween', 'burgerking', 'special', 'hamburgers', 'enjoy', 'authentic', 'taste', 'burger', 'lettuce', 'mayonise', 'onions', 'tomatoes', 'cheese', 'just', '3', 'euros', 'burgers', 'never', 'tasted', 'good']\n"
          ],
          "name": "stdout"
        }
      ]
    },
    {
      "cell_type": "code",
      "metadata": {
        "colab": {
          "base_uri": "https://localhost:8080/"
        },
        "id": "ofXuap7SfB0i",
        "outputId": "7425dd13-12b9-4e6c-b96a-f6a875a7d808"
      },
      "source": [
        "import math\n",
        "def entropy(labels):\n",
        "    freqdist = nltk.FreqDist(labels)\n",
        "    probs = [freqdist.freq(l) for l in freqdist]\n",
        "    return -sum(p * math.log(p,2) for p in probs)\n",
        "\n",
        "\n",
        "entropy_spam = entropy(finalOutputSpam)\n",
        "print(entropy_spam)\n"
      ],
      "execution_count": 7,
      "outputs": [
        {
          "output_type": "stream",
          "text": [
            "6.276693352127532\n"
          ],
          "name": "stdout"
        }
      ]
    },
    {
      "cell_type": "code",
      "metadata": {
        "colab": {
          "base_uri": "https://localhost:8080/"
        },
        "id": "pZz4KRzcfMYs",
        "outputId": "6a0db5f7-0e1c-42ee-c800-38afa72a259a"
      },
      "source": [
        "random =[\"Arnab Goswami reaches court and pleads not guilty for the TRP charge #arnab#newstrp#newschannel#justice#mumbai\",\n",
        "         \"WHO chairman says that we have no idea how COVID-19 spreads. Cites new research.#who#covid#healthcare#eachforthemselves\",\n",
        "         \"#proposalgoeswrong#weddingproposal#ring#care\",\n",
        "        \"Dublin put under another lockdown.Indian students repent the decision to go there as they are forced to attend classes from hostel rooms.#dublin#covid#lockdown#studentsproblems\",\n",
        "        \"Indian student gets lost in university campus inspite of having google maps. University decides to put up signboards#university#signboards#dublin#rightdurections\",\n",
        "        \"Recently released movie ‘Trial of Chicago 7’ breaks all streaming records. Aaron Sorkin wins big #netflix#movie#sorkin#newrelease\",\n",
        "        \"Police in Ghana make a thief eat 2 dozen bananas after swallowing a stolen gold chain. #policetechniques#newways#modernproblems#modernsolutions\",\n",
        "        \"Scientists construct a new all inclusive protective shield to counter polution. Public says it makes them feel like astronauts on earth. #toomuchscience#advancedtech#publicrhetoric\",\n",
        "        \"IPL commences in Dubai amid empty stadiums scares. Most of the time is lost in searching the ball when hit for a six and it falls into the stands. #ipl#cricket#emptystands\",\n",
        "        \"Man tweets against a popular eatery for not serving the porridge hot A fake account handler replied asking him to get his ‘Goldilocks Ass’ in early to get the porridge hot. #trollrers#porridge#hot#consumerworries\"\n",
        "    ]\n",
        "\n",
        "print(random)\n"
      ],
      "execution_count": 8,
      "outputs": [
        {
          "output_type": "stream",
          "text": [
            "['Arnab Goswami reaches court and pleads not guilty for the TRP charge #arnab#newstrp#newschannel#justice#mumbai', 'WHO chairman says that we have no idea how COVID-19 spreads. Cites new research.#who#covid#healthcare#eachforthemselves', '#proposalgoeswrong#weddingproposal#ring#care', 'Dublin put under another lockdown.Indian students repent the decision to go there as they are forced to attend classes from hostel rooms.#dublin#covid#lockdown#studentsproblems', 'Indian student gets lost in university campus inspite of having google maps. University decides to put up signboards#university#signboards#dublin#rightdurections', 'Recently released movie ‘Trial of Chicago 7’ breaks all streaming records. Aaron Sorkin wins big #netflix#movie#sorkin#newrelease', 'Police in Ghana make a thief eat 2 dozen bananas after swallowing a stolen gold chain. #policetechniques#newways#modernproblems#modernsolutions', 'Scientists construct a new all inclusive protective shield to counter polution. Public says it makes them feel like astronauts on earth. #toomuchscience#advancedtech#publicrhetoric', 'IPL commences in Dubai amid empty stadiums scares. Most of the time is lost in searching the ball when hit for a six and it falls into the stands. #ipl#cricket#emptystands', 'Man tweets against a popular eatery for not serving the porridge hot A fake account handler replied asking him to get his ‘Goldilocks Ass’ in early to get the porridge hot. #trollrers#porridge#hot#consumerworries']\n"
          ],
          "name": "stdout"
        }
      ]
    },
    {
      "cell_type": "code",
      "metadata": {
        "id": "qh703W-wfXLF"
      },
      "source": [
        "tknzr = TweetTokenizer()\n",
        "tokenizeRandomTweets = []\n",
        "for tweet in random:\n",
        "    tokenizeRandomTweets.append(tknzr.tokenize(tweet))\n",
        "    \n",
        "#Removing stop words\n",
        "filteredRandomTweet=[]\n",
        "stop_words = stopwords.words('english')\n",
        "for current_list in tokenizeRandomTweets:\n",
        "    temp_list=[]\n",
        "    for word in current_list:\n",
        "        if word not in stop_words:\n",
        "            temp_list.append(word)\n",
        "    filteredRandomTweet.append(temp_list)\n",
        "\n",
        "#Removing the special characters and changing to lower case\n",
        "import re\n",
        "for i in range (0, len(filteredRandomTweet)):\n",
        "    for j in range (0, len(filteredRandomTweet[i])):\n",
        "        filteredRandomTweet[i][j] = re.sub(r\"[^a-zA-Z0-9]+\", '', filteredRandomTweet[i][j])\n",
        "        filteredRandomTweet[i][j] = filteredRandomTweet[i][j].lower()\n"
      ],
      "execution_count": 9,
      "outputs": []
    },
    {
      "cell_type": "code",
      "metadata": {
        "id": "O2k-6joCfavy"
      },
      "source": [
        ""
      ],
      "execution_count": null,
      "outputs": []
    },
    {
      "cell_type": "code",
      "metadata": {
        "colab": {
          "base_uri": "https://localhost:8080/"
        },
        "id": "4LbTK0aRfazc",
        "outputId": "7312b84a-b0fc-48d3-ddf0-133b9117ad65"
      },
      "source": [
        "finalRandomTweet=[]\n",
        "for cur_list in filteredRandomTweet:\n",
        "    temp_list=[]\n",
        "    temp_list = [w for w in cur_list if w]\n",
        "    finalRandomTweet.append(temp_list)\n",
        "    \n",
        "finalOutputRandomTweet=[]\n",
        "for lst in finalRandomTweet:\n",
        "    for ele in lst:\n",
        "        finalOutputRandomTweet.append(ele)\n",
        "        \n",
        "print(finalOutputRandomTweet)\n",
        "\n",
        "ent_random = entropy(finalOutputRandomTweet)\n",
        "print(ent_random)\n",
        "\n",
        "\n",
        "combinedTweets = finalOutputRandomTweet +finalOutputSpam\n",
        "\n",
        "\n",
        "ent_cobined = entropy(finalOutputRandomTweet +finalOutputSpam)\n",
        "print(ent_cobined)"
      ],
      "execution_count": 10,
      "outputs": [
        {
          "output_type": "stream",
          "text": [
            "['arnab', 'goswami', 'reaches', 'court', 'pleads', 'guilty', 'trp', 'charge', 'arnab', 'newstrp', 'newschannel', 'justice', 'mumbai', 'who', 'chairman', 'says', 'idea', 'covid', '19', 'spreads', 'cites', 'new', 'research', 'who', 'covid', 'healthcare', 'eachforthemselves', 'proposalgoeswrong', 'weddingproposal', 'ring', 'care', 'dublin', 'put', 'another', 'lockdownindian', 'students', 'repent', 'decision', 'go', 'forced', 'attend', 'classes', 'hostel', 'rooms', 'dublin', 'covid', 'lockdown', 'studentsproblems', 'indian', 'student', 'gets', 'lost', 'university', 'campus', 'inspite', 'google', 'maps', 'university', 'decides', 'put', 'signboards', 'university', 'signboards', 'dublin', 'rightdurections', 'recently', 'released', 'movie', 'trial', 'chicago', '7', 'breaks', 'streaming', 'records', 'aaron', 'sorkin', 'wins', 'big', 'netflix', 'movie', 'sorkin', 'newrelease', 'police', 'ghana', 'make', 'thief', 'eat', '2', 'dozen', 'bananas', 'swallowing', 'stolen', 'gold', 'chain', 'policetechniques', 'newways', 'modernproblems', 'modernsolutions', 'scientists', 'construct', 'new', 'inclusive', 'protective', 'shield', 'counter', 'polution', 'public', 'says', 'makes', 'feel', 'like', 'astronauts', 'earth', 'toomuchscience', 'advancedtech', 'publicrhetoric', 'ipl', 'commences', 'dubai', 'amid', 'empty', 'stadiums', 'scares', 'most', 'time', 'lost', 'searching', 'ball', 'hit', 'six', 'falls', 'stands', 'ipl', 'cricket', 'emptystands', 'man', 'tweets', 'popular', 'eatery', 'serving', 'porridge', 'hot', 'a', 'fake', 'account', 'handler', 'replied', 'asking', 'get', 'goldilocks', 'ass', 'early', 'get', 'porridge', 'hot', 'trollrers', 'porridge', 'hot', 'consumerworries']\n",
            "7.024993411191139\n",
            "7.543993306919596\n"
          ],
          "name": "stdout"
        }
      ]
    }
  ]
}